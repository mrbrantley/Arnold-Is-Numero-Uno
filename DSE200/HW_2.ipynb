{
  "cells": [
    {
      "cell_type": "markdown",
      "metadata": {
        "id": "n_VmovBBtFwT"
      },
      "source": [
        "# MAS DSE 200: Homework 2 - Pandas\n",
        "\n",
        "#### Tasks:\n",
        "\n",
        "- Submission on Gradescope:\n",
        "  - Submit this Jupyter notebook to \"Homework 2\"\n",
        "\n",
        "\n",
        "---\n",
        "\n",
        "Remember: when in doubt, read the documentation first.\n",
        "\n",
        "Python - https://docs.python.org/3/\n",
        "\n",
        "NumPy - https://numpy.org/doc/stable/\n",
        "\n",
        "pandas - https://pandas.pydata.org/docs/"
      ]
    },
    {
      "cell_type": "markdown",
      "metadata": {
        "id": "b-nDBQJhtFwW"
      },
      "source": [
        "## Instructions\n",
        "\n",
        "* You don’t need to explain your approach (unless specified) so please be concise in your submission.\n",
        "* To obtain full marks for a question, both the answer and the code should be correct.\n",
        "* Completely wrong (or missing) code with correct answer will result in zero marks.\n",
        "* Please code the solution in the space provided."
      ]
    },
    {
      "cell_type": "markdown",
      "metadata": {
        "id": "MemJc6sMtFwW"
      },
      "source": [
        "### Imports\n",
        "\n",
        "Import necessary packages"
      ]
    },
    {
      "metadata": {
        "colab": {
          "base_uri": "https://localhost:8080/"
        },
        "id": "fZ20Xoq7aV6p",
        "outputId": "27494d24-0159-49bc-caa1-e07105b1b49c"
      },
      "cell_type": "code",
      "source": [
        "!pip install pandas numpy requests pillow rasterio"
      ],
      "outputs": [
        {
          "output_type": "stream",
          "name": "stdout",
          "text": [
            "Requirement already satisfied: pandas in /usr/local/lib/python3.12/dist-packages (2.2.2)\n",
            "Requirement already satisfied: numpy in /usr/local/lib/python3.12/dist-packages (2.0.2)\n",
            "Requirement already satisfied: requests in /usr/local/lib/python3.12/dist-packages (2.32.4)\n",
            "Requirement already satisfied: pillow in /usr/local/lib/python3.12/dist-packages (11.3.0)\n",
            "Collecting rasterio\n",
            "  Downloading rasterio-1.4.3-cp312-cp312-manylinux_2_17_x86_64.manylinux2014_x86_64.whl.metadata (9.1 kB)\n",
            "Requirement already satisfied: python-dateutil>=2.8.2 in /usr/local/lib/python3.12/dist-packages (from pandas) (2.9.0.post0)\n",
            "Requirement already satisfied: pytz>=2020.1 in /usr/local/lib/python3.12/dist-packages (from pandas) (2025.2)\n",
            "Requirement already satisfied: tzdata>=2022.7 in /usr/local/lib/python3.12/dist-packages (from pandas) (2025.2)\n",
            "Requirement already satisfied: charset_normalizer<4,>=2 in /usr/local/lib/python3.12/dist-packages (from requests) (3.4.4)\n",
            "Requirement already satisfied: idna<4,>=2.5 in /usr/local/lib/python3.12/dist-packages (from requests) (3.11)\n",
            "Requirement already satisfied: urllib3<3,>=1.21.1 in /usr/local/lib/python3.12/dist-packages (from requests) (2.5.0)\n",
            "Requirement already satisfied: certifi>=2017.4.17 in /usr/local/lib/python3.12/dist-packages (from requests) (2025.10.5)\n",
            "Collecting affine (from rasterio)\n",
            "  Downloading affine-2.4.0-py3-none-any.whl.metadata (4.0 kB)\n",
            "Requirement already satisfied: attrs in /usr/local/lib/python3.12/dist-packages (from rasterio) (25.4.0)\n",
            "Requirement already satisfied: click>=4.0 in /usr/local/lib/python3.12/dist-packages (from rasterio) (8.3.0)\n",
            "Collecting cligj>=0.5 (from rasterio)\n",
            "  Downloading cligj-0.7.2-py3-none-any.whl.metadata (5.0 kB)\n",
            "Collecting click-plugins (from rasterio)\n",
            "  Downloading click_plugins-1.1.1.2-py2.py3-none-any.whl.metadata (6.5 kB)\n",
            "Requirement already satisfied: pyparsing in /usr/local/lib/python3.12/dist-packages (from rasterio) (3.2.5)\n",
            "Requirement already satisfied: six>=1.5 in /usr/local/lib/python3.12/dist-packages (from python-dateutil>=2.8.2->pandas) (1.17.0)\n",
            "Downloading rasterio-1.4.3-cp312-cp312-manylinux_2_17_x86_64.manylinux2014_x86_64.whl (22.3 MB)\n",
            "\u001b[2K   \u001b[90m━━━━━━━━━━━━━━━━━━━━━━━━━━━━━━━━━━━━━━━━\u001b[0m \u001b[32m22.3/22.3 MB\u001b[0m \u001b[31m46.2 MB/s\u001b[0m eta \u001b[36m0:00:00\u001b[0m\n",
            "\u001b[?25hDownloading cligj-0.7.2-py3-none-any.whl (7.1 kB)\n",
            "Downloading affine-2.4.0-py3-none-any.whl (15 kB)\n",
            "Downloading click_plugins-1.1.1.2-py2.py3-none-any.whl (11 kB)\n",
            "Installing collected packages: cligj, click-plugins, affine, rasterio\n",
            "Successfully installed affine-2.4.0 click-plugins-1.1.1.2 cligj-0.7.2 rasterio-1.4.3\n"
          ]
        }
      ],
      "execution_count": 1
    },
    {
      "metadata": {
        "id": "6GuHZpsIaV6p"
      },
      "cell_type": "code",
      "source": [
        "import pandas as pd\n",
        "import numpy as np\n",
        "import requests\n",
        "from pathlib import Path\n",
        "from PIL import Image\n",
        "from io import BytesIO\n",
        "import rasterio\n",
        "from rasterio.transform import from_bounds"
      ],
      "outputs": [],
      "execution_count": 2
    },
    {
      "cell_type": "markdown",
      "metadata": {
        "id": "Ijk8ksNItFwX"
      },
      "source": [
        "## Part 1: Titanic"
      ]
    },
    {
      "cell_type": "markdown",
      "metadata": {
        "id": "sXCFssqXtFwX"
      },
      "source": [
        "### Preliminaries\n",
        "\n",
        "* Grab the dataset from `https://raw.githubusercontent.com/justmarkham/DAT8/master/data/titanic.csv` and store it in a pandas dataframe called `passengers`."
      ]
    },
    {
      "cell_type": "code",
      "metadata": {
        "id": "TCxfo3dOaV6q"
      },
      "source": [
        "# YOUR CODE HERE\n",
        "# download from https://raw.githubusercontent.com/justmarkham/DAT8/master/data/titanic.csv\n",
        "with open('titanic.csv', 'wb') as f:\n",
        "    response = requests.get('https://raw.githubusercontent.com/justmarkham/DAT8/master/data/titanic.csv')\n",
        "    f.write(response.content)\n"
      ],
      "outputs": [],
      "execution_count": 3
    },
    {
      "metadata": {
        "id": "FoxNM1rnaV6q"
      },
      "cell_type": "code",
      "source": [
        "# open the csv file as a pandas dataframe\n",
        "passengers = pd.read_csv('https://raw.githubusercontent.com/justmarkham/DAT8/master/data/titanic.csv')"
      ],
      "outputs": [],
      "execution_count": 4
    },
    {
      "cell_type": "markdown",
      "metadata": {
        "id": "Pd2GV_iHtFwY"
      },
      "source": [
        "### 1: Get to know your data - **20 points**"
      ]
    },
    {
      "metadata": {
        "id": "B8JwzWTcaV6s"
      },
      "cell_type": "markdown",
      "source": [
        "**1.1**: Print the first 15 entries in the dataframe to see what the columns are and what some values will look like - **5 points**"
      ]
    },
    {
      "metadata": {
        "colab": {
          "base_uri": "https://localhost:8080/"
        },
        "id": "PRZbmU1taV6s",
        "outputId": "71a9b6a9-5514-4055-d452-65744aa608ba"
      },
      "cell_type": "code",
      "source": [
        "# YOUR CODE HERE\n",
        "print(passengers.shape)\n",
        "print(passengers.head(16))"
      ],
      "outputs": [
        {
          "output_type": "stream",
          "name": "stdout",
          "text": [
            "(891, 12)\n",
            "    PassengerId  Survived  Pclass  \\\n",
            "0             1         0       3   \n",
            "1             2         1       1   \n",
            "2             3         1       3   \n",
            "3             4         1       1   \n",
            "4             5         0       3   \n",
            "5             6         0       3   \n",
            "6             7         0       1   \n",
            "7             8         0       3   \n",
            "8             9         1       3   \n",
            "9            10         1       2   \n",
            "10           11         1       3   \n",
            "11           12         1       1   \n",
            "12           13         0       3   \n",
            "13           14         0       3   \n",
            "14           15         0       3   \n",
            "15           16         1       2   \n",
            "\n",
            "                                                 Name     Sex   Age  SibSp  \\\n",
            "0                             Braund, Mr. Owen Harris    male  22.0      1   \n",
            "1   Cumings, Mrs. John Bradley (Florence Briggs Th...  female  38.0      1   \n",
            "2                              Heikkinen, Miss. Laina  female  26.0      0   \n",
            "3        Futrelle, Mrs. Jacques Heath (Lily May Peel)  female  35.0      1   \n",
            "4                            Allen, Mr. William Henry    male  35.0      0   \n",
            "5                                    Moran, Mr. James    male   NaN      0   \n",
            "6                             McCarthy, Mr. Timothy J    male  54.0      0   \n",
            "7                      Palsson, Master. Gosta Leonard    male   2.0      3   \n",
            "8   Johnson, Mrs. Oscar W (Elisabeth Vilhelmina Berg)  female  27.0      0   \n",
            "9                 Nasser, Mrs. Nicholas (Adele Achem)  female  14.0      1   \n",
            "10                    Sandstrom, Miss. Marguerite Rut  female   4.0      1   \n",
            "11                           Bonnell, Miss. Elizabeth  female  58.0      0   \n",
            "12                     Saundercock, Mr. William Henry    male  20.0      0   \n",
            "13                        Andersson, Mr. Anders Johan    male  39.0      1   \n",
            "14               Vestrom, Miss. Hulda Amanda Adolfina  female  14.0      0   \n",
            "15                   Hewlett, Mrs. (Mary D Kingcome)   female  55.0      0   \n",
            "\n",
            "    Parch            Ticket     Fare Cabin Embarked  \n",
            "0       0         A/5 21171   7.2500   NaN        S  \n",
            "1       0          PC 17599  71.2833   C85        C  \n",
            "2       0  STON/O2. 3101282   7.9250   NaN        S  \n",
            "3       0            113803  53.1000  C123        S  \n",
            "4       0            373450   8.0500   NaN        S  \n",
            "5       0            330877   8.4583   NaN        Q  \n",
            "6       0             17463  51.8625   E46        S  \n",
            "7       1            349909  21.0750   NaN        S  \n",
            "8       2            347742  11.1333   NaN        S  \n",
            "9       0            237736  30.0708   NaN        C  \n",
            "10      1           PP 9549  16.7000    G6        S  \n",
            "11      0            113783  26.5500  C103        S  \n",
            "12      0         A/5. 2151   8.0500   NaN        S  \n",
            "13      5            347082  31.2750   NaN        S  \n",
            "14      0            350406   7.8542   NaN        S  \n",
            "15      0            248706  16.0000   NaN        S  \n"
          ]
        }
      ],
      "execution_count": 5
    },
    {
      "metadata": {
        "id": "ZiGAx1JJaV6s"
      },
      "cell_type": "markdown",
      "source": [
        "**1.2**: Next, set the index of the dataframe to the `PassengerId` column, and print the first 10 elements again to ensure the change took place - **5 points**"
      ]
    },
    {
      "metadata": {
        "colab": {
          "base_uri": "https://localhost:8080/"
        },
        "id": "2ghi4L3jaV6t",
        "outputId": "3b89fbd5-a3a1-4c71-87d2-b6ca60cf1553"
      },
      "cell_type": "code",
      "source": [
        "# YOUR CODE HERE\n",
        "passengers = passengers.set_index('PassengerId')\n",
        "print(passengers.head(10))"
      ],
      "outputs": [
        {
          "output_type": "stream",
          "name": "stdout",
          "text": [
            "             Survived  Pclass  \\\n",
            "PassengerId                     \n",
            "1                   0       3   \n",
            "2                   1       1   \n",
            "3                   1       3   \n",
            "4                   1       1   \n",
            "5                   0       3   \n",
            "6                   0       3   \n",
            "7                   0       1   \n",
            "8                   0       3   \n",
            "9                   1       3   \n",
            "10                  1       2   \n",
            "\n",
            "                                                          Name     Sex   Age  \\\n",
            "PassengerId                                                                    \n",
            "1                                      Braund, Mr. Owen Harris    male  22.0   \n",
            "2            Cumings, Mrs. John Bradley (Florence Briggs Th...  female  38.0   \n",
            "3                                       Heikkinen, Miss. Laina  female  26.0   \n",
            "4                 Futrelle, Mrs. Jacques Heath (Lily May Peel)  female  35.0   \n",
            "5                                     Allen, Mr. William Henry    male  35.0   \n",
            "6                                             Moran, Mr. James    male   NaN   \n",
            "7                                      McCarthy, Mr. Timothy J    male  54.0   \n",
            "8                               Palsson, Master. Gosta Leonard    male   2.0   \n",
            "9            Johnson, Mrs. Oscar W (Elisabeth Vilhelmina Berg)  female  27.0   \n",
            "10                         Nasser, Mrs. Nicholas (Adele Achem)  female  14.0   \n",
            "\n",
            "             SibSp  Parch            Ticket     Fare Cabin Embarked  \n",
            "PassengerId                                                          \n",
            "1                1      0         A/5 21171   7.2500   NaN        S  \n",
            "2                1      0          PC 17599  71.2833   C85        C  \n",
            "3                0      0  STON/O2. 3101282   7.9250   NaN        S  \n",
            "4                1      0            113803  53.1000  C123        S  \n",
            "5                0      0            373450   8.0500   NaN        S  \n",
            "6                0      0            330877   8.4583   NaN        Q  \n",
            "7                0      0             17463  51.8625   E46        S  \n",
            "8                3      1            349909  21.0750   NaN        S  \n",
            "9                0      2            347742  11.1333   NaN        S  \n",
            "10               1      0            237736  30.0708   NaN        C  \n"
          ]
        }
      ],
      "execution_count": 6
    },
    {
      "metadata": {
        "id": "PsoPOAP1aV6t"
      },
      "cell_type": "markdown",
      "source": [
        "**1.3**: How many samples are there in this dataset? - **5 points**"
      ]
    },
    {
      "metadata": {
        "colab": {
          "base_uri": "https://localhost:8080/"
        },
        "id": "XhGB9AXwaV6t",
        "outputId": "2df171f4-2e09-42a6-8790-cc9c2126d8eb"
      },
      "cell_type": "code",
      "source": [
        "# YOUR CODE HERE\n",
        "sample_size = passengers.shape[0]\n",
        "print(f\"There are {sample_size} samples in the Titanic dataset.\")"
      ],
      "outputs": [
        {
          "output_type": "stream",
          "name": "stdout",
          "text": [
            "There are 891 samples in the Titanic dataset.\n"
          ]
        }
      ],
      "execution_count": 7
    },
    {
      "metadata": {
        "id": "7Yn0FeYoaV6t"
      },
      "cell_type": "markdown",
      "source": [
        "**1.4** How many samples contain `null`/`NaN` in atleast one of the columns? - **5 points**"
      ]
    },
    {
      "metadata": {
        "colab": {
          "base_uri": "https://localhost:8080/"
        },
        "id": "LUJTxb-taV6t",
        "outputId": "5c87f877-fa92-4cdd-a0c5-13fb223f1356"
      },
      "cell_type": "code",
      "source": [
        "# YOUR CODE HERE\n",
        "contains_null = passengers.isnull().sum()\n",
        "print(contains_null.sum())"
      ],
      "outputs": [
        {
          "output_type": "stream",
          "name": "stdout",
          "text": [
            "866\n"
          ]
        }
      ],
      "execution_count": 8
    },
    {
      "cell_type": "markdown",
      "metadata": {
        "id": "7KoM_CZatFwa"
      },
      "source": [
        "### 2: Summary statistics - **30 points**"
      ]
    },
    {
      "metadata": {
        "id": "MK-u-FqHaV6t"
      },
      "cell_type": "markdown",
      "source": [
        "**2.1**: Print the `min`, `max`, `mean` and `median` of age and fare of all passengers - **10 points**\n",
        "\n",
        "Hint - Look at [`DataFrame.agg`](https://pandas.pydata.org/docs/reference/api/pandas.DataFrame.agg.html#pandas.DataFrame.agg)"
      ]
    },
    {
      "metadata": {
        "colab": {
          "base_uri": "https://localhost:8080/"
        },
        "id": "WL69BDFSaV6t",
        "outputId": "e65b17c7-8797-4e31-9957-10ccbe527529"
      },
      "cell_type": "code",
      "source": [
        "# YOUR CODE HERE\n",
        "# print(passengers[\"Age\"].min())\n",
        "# youngest_person = passengers[passengers[\"Age\"] == passengers[\"Age\"].min()]\n",
        "# oldest_person = passengers[passengers[\"Age\"] == passengers[\"Age\"].max()]\n",
        "# print(youngest_person)\n",
        "# print(oldest_person)\n",
        "print(passengers[['Age', 'Fare']].agg(['min', 'max', 'mean', 'median']))"
      ],
      "outputs": [
        {
          "output_type": "stream",
          "name": "stdout",
          "text": [
            "              Age        Fare\n",
            "min      0.420000    0.000000\n",
            "max     80.000000  512.329200\n",
            "mean    29.699118   32.204208\n",
            "median  28.000000   14.454200\n"
          ]
        }
      ],
      "execution_count": 9
    },
    {
      "metadata": {
        "id": "uknTNxlGaV6t"
      },
      "cell_type": "markdown",
      "source": [
        "**2.2**: What is the average ticket fare price for male vs female passengers on the Titanic? - **10 points**\n",
        "\n",
        "Note - The output should only have `Sex` and `Fare`\n",
        "\n",
        "*Hint* - Look at [`DataFrame.groupby`](https://pandas.pydata.org/docs/reference/api/pandas.DataFrame.groupby.html#pandas.DataFrame.groupby)"
      ]
    },
    {
      "metadata": {
        "colab": {
          "base_uri": "https://localhost:8080/"
        },
        "id": "BDjJpqnkaV6t",
        "outputId": "b4058fe9-1b35-40e1-ce1a-7e95bfd692fa"
      },
      "cell_type": "code",
      "source": [
        "# YOUR CODE HERE\n",
        "avg_fare = passengers.groupby(\"Sex\")[\"Fare\"].mean().reset_index()\n",
        "print(avg_fare.to_string(index=False))"
      ],
      "outputs": [
        {
          "output_type": "stream",
          "name": "stdout",
          "text": [
            "   Sex      Fare\n",
            "female 44.479818\n",
            "  male 25.523893\n"
          ]
        }
      ],
      "execution_count": 10
    },
    {
      "metadata": {
        "id": "C4Rj8sB1aV6t"
      },
      "cell_type": "markdown",
      "source": [
        "**2.3** What is the mean age for each of the sex and cabin class combinations? - **10 points**"
      ]
    },
    {
      "metadata": {
        "colab": {
          "base_uri": "https://localhost:8080/"
        },
        "id": "diS_VA4maV6t",
        "outputId": "70dfc158-f678-42d0-f4e9-ee3580a6de20"
      },
      "cell_type": "code",
      "source": [
        "# YOUR CODE HERE\n",
        "avg_age_sex = passengers.groupby(\"Sex\")[\"Age\"].mean().reset_index()\n",
        "print(avg_age_sex)\n",
        "avg_age_cabin = passengers.groupby(\"Cabin\")[\"Age\"].mean().fillna(\"Age Unknown\").reset_index()\n",
        "print(avg_age_cabin)"
      ],
      "outputs": [
        {
          "output_type": "stream",
          "name": "stdout",
          "text": [
            "      Sex        Age\n",
            "0  female  27.915709\n",
            "1    male  30.726645\n",
            "    Cabin          Age\n",
            "0     A10         36.0\n",
            "1     A14  Age Unknown\n",
            "2     A16         48.0\n",
            "3     A19  Age Unknown\n",
            "4     A20         49.0\n",
            "..    ...          ...\n",
            "142   F33         29.0\n",
            "143   F38  Age Unknown\n",
            "144    F4          2.5\n",
            "145    G6        14.75\n",
            "146     T         45.0\n",
            "\n",
            "[147 rows x 2 columns]\n"
          ]
        }
      ],
      "execution_count": 11
    },
    {
      "cell_type": "markdown",
      "metadata": {
        "id": "y9nyvmk6tFwb"
      },
      "source": [
        "### 3:  Number of passengers in different classes - **20 points**"
      ]
    },
    {
      "metadata": {
        "id": "R-C_DKo5aV6u"
      },
      "cell_type": "markdown",
      "source": [
        "**3.1**: What is the number of passenges in different classes according to this dataset? (Hint: Pclass represents the class of a passenger.) - **5 points**"
      ]
    },
    {
      "metadata": {
        "id": "A8ortevXaV6u",
        "colab": {
          "base_uri": "https://localhost:8080/"
        },
        "outputId": "98f15580-060b-41ce-d8c8-9f9cdd2ee82f"
      },
      "cell_type": "code",
      "source": [
        "# YOUR CODE HERE\n",
        "class_count = passengers[\"Pclass\"].value_counts()\n",
        "print(class_count)"
      ],
      "outputs": [
        {
          "output_type": "stream",
          "name": "stdout",
          "text": [
            "Pclass\n",
            "3    491\n",
            "1    216\n",
            "2    184\n",
            "Name: count, dtype: int64\n"
          ]
        }
      ],
      "execution_count": 12
    },
    {
      "metadata": {
        "id": "t8ezPqQSaV6u"
      },
      "cell_type": "markdown",
      "source": [
        "**3.2** How many passengers in 1st class (`Pclass = 1`) are women (`Sex = female`) above the age of 27? - **5 points**"
      ]
    },
    {
      "metadata": {
        "id": "Q61Y70p8aV6u",
        "colab": {
          "base_uri": "https://localhost:8080/"
        },
        "outputId": "6a947e34-b42f-4611-cd0b-5dafabec89e3"
      },
      "cell_type": "code",
      "source": [
        "# YOUR CODE HERE\n",
        "female_passengers = passengers[(passengers[\"Pclass\"] == 1) & (passengers[\"Sex\"] == \"female\") & (passengers[\"Age\"] > 27)]\n",
        "len(female_passengers)"
      ],
      "outputs": [
        {
          "output_type": "execute_result",
          "data": {
            "text/plain": [
              "56"
            ]
          },
          "metadata": {},
          "execution_count": 13
        }
      ],
      "execution_count": 13
    },
    {
      "metadata": {
        "id": "lfWhhbK8aV6u"
      },
      "cell_type": "markdown",
      "source": [
        "**3.3** What fraction of passengers from each class survived? (`Survived=1`) - **10 points**"
      ]
    },
    {
      "metadata": {
        "id": "iQIRhmQmaV6u",
        "colab": {
          "base_uri": "https://localhost:8080/"
        },
        "outputId": "6674ea6c-2716-47db-cf43-397d5d83d438"
      },
      "cell_type": "code",
      "source": [
        "# YOUR CODE HERE\n",
        "survival_fraction = passengers.groupby(\"Pclass\")[\"Survived\"].mean()\n",
        "print(survival_fraction)"
      ],
      "outputs": [
        {
          "output_type": "stream",
          "name": "stdout",
          "text": [
            "Pclass\n",
            "1    0.629630\n",
            "2    0.472826\n",
            "3    0.242363\n",
            "Name: Survived, dtype: float64\n"
          ]
        }
      ],
      "execution_count": 14
    },
    {
      "cell_type": "markdown",
      "metadata": {
        "id": "AqhePjcBtFwc"
      },
      "source": [
        "### 4:  Fares - **30 points**"
      ]
    },
    {
      "metadata": {
        "id": "F6DRVL1_aV6u"
      },
      "cell_type": "markdown",
      "source": [
        "**4.1**: How many different fares were charged on the Titanic based on the dataset? - **5 points**"
      ]
    },
    {
      "metadata": {
        "id": "PvUFc31paV6v",
        "colab": {
          "base_uri": "https://localhost:8080/"
        },
        "outputId": "7cef2a8f-5f04-4674-d982-e0a3bfc14a66"
      },
      "cell_type": "code",
      "source": [
        "# YOUR CODE HERE\n",
        "len(passengers[\"Fare\"].unique())"
      ],
      "outputs": [
        {
          "output_type": "execute_result",
          "data": {
            "text/plain": [
              "248"
            ]
          },
          "metadata": {},
          "execution_count": 15
        }
      ],
      "execution_count": 15
    },
    {
      "metadata": {
        "id": "y1XOqX4_aV6w"
      },
      "cell_type": "markdown",
      "source": [
        "**4.2**: Find the top 10 fares charged from the passengers. **Report these fare values**, and then **calculate the total number of passengers** who paid one of these top 10 fare amounts - **10 points**"
      ]
    },
    {
      "metadata": {
        "id": "arYal6yBaV6w",
        "colab": {
          "base_uri": "https://localhost:8080/"
        },
        "outputId": "2945e051-ffc2-43f1-ee6f-c5b56464712d"
      },
      "cell_type": "code",
      "source": [
        "# YOUR CODE HERE\n",
        "top_10_fares = passengers[\"Fare\"].value_counts().head(10)\n",
        "print(top_10_fares)\n",
        "\n",
        "print(top_10_fares.sum())\n",
        "\n"
      ],
      "outputs": [
        {
          "output_type": "stream",
          "name": "stdout",
          "text": [
            "Fare\n",
            "8.0500     43\n",
            "13.0000    42\n",
            "7.8958     38\n",
            "7.7500     34\n",
            "26.0000    31\n",
            "10.5000    24\n",
            "7.9250     18\n",
            "7.7750     16\n",
            "7.2292     15\n",
            "26.5500    15\n",
            "Name: count, dtype: int64\n",
            "276\n"
          ]
        }
      ],
      "execution_count": 16
    },
    {
      "metadata": {
        "id": "X6Rsb_6KaV6w"
      },
      "cell_type": "markdown",
      "source": [
        "**4.3**: Create a new dataset, called `passengers_filtered`, that includes only entries of passengers who paid one of these top 10 fares. **Report the number of samples** in the original dataset and in the new dataset to ensure the desired effect took place - **10 points**\n",
        "\n",
        "**hint:** Check out the Pandas Series function [isin](https://pandas.pydata.org/pandas-docs/stable/generated/pandas.Series.isin.html)"
      ]
    },
    {
      "metadata": {
        "id": "L_5K930uaV6w",
        "colab": {
          "base_uri": "https://localhost:8080/"
        },
        "outputId": "8522378a-3cb4-46a6-e2f8-a5d57195c2a6"
      },
      "cell_type": "code",
      "source": [
        "# YOUR CODE HERE\n",
        "passengers_filetered = passengers[passengers[\"Fare\"].isin(top_10_fares.index)]\n",
        "print(f\"{len(passengers)} samples in the original dataset\")\n",
        "print(f\"{len(passengers_filetered)} samples in the new dataset\")"
      ],
      "outputs": [
        {
          "output_type": "stream",
          "name": "stdout",
          "text": [
            "891 samples in the original dataset\n",
            "276 samples in the new dataset\n"
          ]
        }
      ],
      "execution_count": 31
    },
    {
      "cell_type": "markdown",
      "metadata": {
        "id": "xlM-BT7vtFwd"
      },
      "source": [
        "### 5:  Ages - **30 points**"
      ]
    },
    {
      "metadata": {
        "id": "ksq0iT1daV6w"
      },
      "cell_type": "markdown",
      "source": [
        "**5.1**: What was the minimum, maximum and average age of passengers on the Titanic? - **5 points**"
      ]
    },
    {
      "metadata": {
        "id": "FCuLOh8eaV6w",
        "colab": {
          "base_uri": "https://localhost:8080/"
        },
        "outputId": "871a74c8-81e6-4e9e-c55f-58375966d87f"
      },
      "cell_type": "code",
      "source": [
        "# YOUR CODE HERE\n",
        "#passengers[\"Age\"].describe()\n",
        "print(passengers[\"Age\"].min())\n",
        "print(int(passengers[\"Age\"].max()))\n",
        "average_age = passengers[\"Age\"].mean()\n",
        "print(f\"{average_age:.2f}\")\n"
      ],
      "outputs": [
        {
          "output_type": "stream",
          "name": "stdout",
          "text": [
            "0.42\n",
            "80\n",
            "29.70\n"
          ]
        }
      ],
      "execution_count": 18
    },
    {
      "metadata": {
        "id": "jphv5Oz4aV6w"
      },
      "cell_type": "markdown",
      "source": [
        "**5.2**: How many passengers on the Titanic were within one standard deviation of the mean age calculated in **5.1**? - **10 points**"
      ]
    },
    {
      "metadata": {
        "id": "m7iC28zwaV6x",
        "colab": {
          "base_uri": "https://localhost:8080/"
        },
        "outputId": "544e8562-5401-419c-c7d4-2af028055e5d"
      },
      "cell_type": "code",
      "source": [
        "# YOUR CODE HERE\n",
        "std_deviation_age= passengers[\"Age\"].std()\n",
        "\n",
        "min_std_age = average_age - std_deviation_age\n",
        "max_std_age = average_age + std_deviation_age\n",
        "\n",
        "passengers_within_std = passengers[(passengers[\"Age\"] >= min_std_age) & (passengers[\"Age\"] <= max_std_age)]\n",
        "print(len(passengers_within_std))\n"
      ],
      "outputs": [
        {
          "output_type": "stream",
          "name": "stdout",
          "text": [
            "516\n"
          ]
        }
      ],
      "execution_count": 19
    },
    {
      "metadata": {
        "id": "fOD1I_ETaV6x"
      },
      "cell_type": "markdown",
      "source": [
        "**5.3**: How many of the passengers found in **5.2** were females over the age of 25? - **5 points**"
      ]
    },
    {
      "metadata": {
        "id": "UWuBstnxaV6x",
        "colab": {
          "base_uri": "https://localhost:8080/"
        },
        "outputId": "860da033-0353-4974-dfe6-4d0f40ce1322"
      },
      "cell_type": "code",
      "source": [
        "# YOUR CODE HERE\n",
        "females_within_std_over_25 = passengers_within_std[(passengers_within_std[\"Sex\"] == \"female\") & (passengers_within_std[\"Age\"] > 25)]\n",
        "print(len(females_within_std_over_25))"
      ],
      "outputs": [
        {
          "output_type": "stream",
          "name": "stdout",
          "text": [
            "103\n"
          ]
        }
      ],
      "execution_count": 20
    },
    {
      "metadata": {
        "id": "IK83dnkaaV6x"
      },
      "cell_type": "markdown",
      "source": [
        "**5.4**: What are the 10 **most** common ages of passengers according to this dataset? - **5 points**"
      ]
    },
    {
      "metadata": {
        "id": "d1Nt7bsOaV6x",
        "colab": {
          "base_uri": "https://localhost:8080/"
        },
        "outputId": "93ad72d7-ca8c-4c3e-8a2e-6defb05f2051"
      },
      "cell_type": "code",
      "source": [
        "# YOUR CODE HERE\n",
        "top_10_ages = passengers[\"Age\"].value_counts().head(10)\n",
        "print(top_10_ages)"
      ],
      "outputs": [
        {
          "output_type": "stream",
          "name": "stdout",
          "text": [
            "Age\n",
            "24.0    30\n",
            "22.0    27\n",
            "18.0    26\n",
            "28.0    25\n",
            "30.0    25\n",
            "19.0    25\n",
            "21.0    24\n",
            "25.0    23\n",
            "36.0    22\n",
            "29.0    20\n",
            "Name: count, dtype: int64\n"
          ]
        }
      ],
      "execution_count": 21
    },
    {
      "cell_type": "markdown",
      "metadata": {
        "id": "qcFNQrjBtFwd"
      },
      "source": [
        "## Part 2: Beer Review - 20 points"
      ]
    },
    {
      "cell_type": "markdown",
      "metadata": {
        "id": "KlmEf9xxtFwd"
      },
      "source": [
        "Use the `beer_reviews` dataframe created for you"
      ]
    },
    {
      "metadata": {
        "id": "-dP45HtCaV6x"
      },
      "cell_type": "code",
      "source": [
        "reviews = []\n",
        "response = requests.get(\"https://dse200.dev/Day2/beer_50000.json\")\n",
        "for line in response.text.splitlines():\n",
        "    reviews.append(eval(line))\n",
        "\n",
        "beer_reviews = pd.DataFrame(reviews)"
      ],
      "outputs": [],
      "execution_count": 25
    },
    {
      "metadata": {
        "id": "Q2xfIZTsaV6x"
      },
      "cell_type": "markdown",
      "source": [
        "**6.1**: Which are the top 15 beers with the highest average ratings (`review/overall`)? - **10 points**"
      ]
    },
    {
      "metadata": {
        "id": "zBQTQEnFaV6x",
        "colab": {
          "base_uri": "https://localhost:8080/"
        },
        "outputId": "0a52be7e-1826-4c34-fc85-00f4fb1dc370"
      },
      "cell_type": "code",
      "source": [
        "# YOUR CODE HERE\n",
        "print(len(beer_reviews[(beer_reviews[\"review/overall\"]==5.0)]))\n",
        "\n",
        "top_beers = beer_reviews.sort_values(by=\"review/overall\", ascending=False).head(15)\n",
        "print(top_beers[[\"beer/name\",\"review/overall\"]])\n",
        "# print(top_beers)\n"
      ],
      "outputs": [
        {
          "output_type": "stream",
          "name": "stdout",
          "text": [
            "3517\n",
            "                            beer/name  review/overall\n",
            "18033      Founders Backwoods Bastard             5.0\n",
            "21431        Founders Breakfast Stout             5.0\n",
            "47886  Stoudt's Blonde Double MaiBock             5.0\n",
            "38276               Dank Imperial Red             5.0\n",
            "21432        Founders Breakfast Stout             5.0\n",
            "18057      Founders Backwoods Bastard             5.0\n",
            "21435        Founders Breakfast Stout             5.0\n",
            "3185           Barrel Aged Naked Evil             5.0\n",
            "3162           Barrel Aged Naked Evil             5.0\n",
            "3165           Barrel Aged Naked Evil             5.0\n",
            "12874            Mathias Imperial IPA             5.0\n",
            "12873            Mathias Imperial IPA             5.0\n",
            "3195           Barrel Aged Naked Evil             5.0\n",
            "21468        Founders Breakfast Stout             5.0\n",
            "48591                    Stoudts Pils             5.0\n"
          ]
        }
      ],
      "execution_count": 52
    },
    {
      "cell_type": "markdown",
      "metadata": {
        "id": "ke4epiT5tFwd"
      },
      "source": [
        "**6.2**: Which of the following - `review/palate`, `review/taste`, `review/aroma`, length of `review/text`(number of words in the review text) - correlate highest with `review/overall`? - **10 points**\n",
        "\n",
        "NOTE - `review/text` is of type string while the other reviews are of type float. Use the length of `review/text` instead. You may need to create a new column in the data frame"
      ]
    },
    {
      "metadata": {
        "id": "slDiCcniaV6x"
      },
      "cell_type": "code",
      "source": [
        "# YOUR CODE HERE\n",
        "review_length= len(beer_reviews[\"review/text\"])"
      ],
      "outputs": [],
      "execution_count": null
    },
    {
      "metadata": {
        "id": "kup3fjkYaV6x"
      },
      "cell_type": "markdown",
      "source": [
        "## Part 3: Geospatial Data - 10 points"
      ]
    },
    {
      "metadata": {
        "id": "oKafA4_3aV6y"
      },
      "cell_type": "code",
      "source": [
        "\n",
        "data_dir = Path('fire_data')\n",
        "data_dir.mkdir(exist_ok=True)"
      ],
      "outputs": [],
      "execution_count": 53
    },
    {
      "metadata": {
        "id": "Eg7ySBlBaV6y",
        "colab": {
          "base_uri": "https://localhost:8080/"
        },
        "outputId": "9a7a3919-9a11-4ff5-8561-d5c7d9bba7f9"
      },
      "cell_type": "code",
      "source": [
        "# Select a new area\n",
        "# http://bboxfinder.com/#-117.500249,32.665157,-116.820470,33.012173\n",
        "# Go to the above link and select an area of interest\n",
        "# Example bbox for San Diego area: [-117.500249, 32.665157, -116.820470, 33.012173]\n",
        "bbox = [34.817734,-1.657331,35.169296,-1.292157]  # Replace with your chosen area\n",
        "\n",
        "print(f\"Study Area Bounding Box: {bbox}\")\n",
        "print(f\"Longitude: {bbox[0]:.2f} to {bbox[2]:.2f}\")\n",
        "print(f\"Latitude: {bbox[1]:.2f} to {bbox[3]:.2f}\")"
      ],
      "outputs": [
        {
          "output_type": "stream",
          "name": "stdout",
          "text": [
            "Study Area Bounding Box: [34.817734, -1.657331, 35.169296, -1.292157]\n",
            "Longitude: 34.82 to 35.17\n",
            "Latitude: -1.66 to -1.29\n"
          ]
        }
      ],
      "execution_count": 55
    },
    {
      "metadata": {
        "id": "w01NRMhraV6y",
        "colab": {
          "base_uri": "https://localhost:8080/"
        },
        "outputId": "34ee9105-ef6b-4b8d-ff01-d41c693f8a74"
      },
      "cell_type": "code",
      "source": [
        "def get_naip_imagery(bbox, output_path):\n",
        "    \"\"\"\n",
        "    Fetch NAIP imagery - simple version\n",
        "    Always gets 1024x1024 pixels, no calculations\n",
        "    \"\"\"\n",
        "    base_url = \"https://imagery.nationalmap.gov/arcgis/rest/services/USGSNAIPImagery/ImageServer/exportImage\"\n",
        "\n",
        "    params = {\n",
        "        'bbox': f\"{bbox[0]},{bbox[1]},{bbox[2]},{bbox[3]}\",\n",
        "        'bboxSR': '4326',\n",
        "        'size': '1024, 1024',\n",
        "        'imageSR': '4326',\n",
        "        'format': 'tiff',  # Get TIFF to preserve all bands\n",
        "        'pixelType': 'U16',\n",
        "        'f': 'image'\n",
        "    }\n",
        "\n",
        "    print(f\"Requesting NAIP imagery: 1024x1024 pixels\")\n",
        "    response = requests.get(base_url, params=params, timeout=120)\n",
        "\n",
        "    if response.status_code == 200:\n",
        "        # Save directly - no conversion needed\n",
        "        with open(output_path, 'wb') as f:\n",
        "            f.write(response.content)\n",
        "\n",
        "        print(f\"✓ NAIP imagery saved to {output_path}\")\n",
        "        return True\n",
        "    else:\n",
        "        print(f\"Error fetching NAIP: {response.status_code}\")\n",
        "        return False\n",
        "\n",
        "\n",
        "# Use it\n",
        "naip_file = data_dir / 'naip_imagery.tif'\n",
        "print(\"Downloading NAIP imagery...\")\n",
        "success = get_naip_imagery(bbox, naip_file)\n",
        "\n",
        "if success:\n",
        "    # Check what we got\n",
        "    with rasterio.open(naip_file) as src:\n",
        "        print(f\"Bands: {src.count}\")\n",
        "        print(f\"Size: {src.width}x{src.height}\")"
      ],
      "outputs": [
        {
          "output_type": "stream",
          "name": "stdout",
          "text": [
            "Downloading NAIP imagery...\n",
            "Requesting NAIP imagery: 1024x1024 pixels\n",
            "✓ NAIP imagery saved to fire_data/naip_imagery.tif\n",
            "Bands: 4\n",
            "Size: 1024x1024\n"
          ]
        }
      ],
      "execution_count": 56
    },
    {
      "metadata": {
        "id": "MObumubbaV6y"
      },
      "cell_type": "markdown",
      "source": [
        "### Task - Geospatial Data Analysis - 10 points\n",
        "\n",
        "Based on the NAIP imagery data you've downloaded, create your own analytics to explore the geospatial data.\n",
        "\n",
        "**Requirements (10 points total):**\n",
        "1. **Visualize the imagery** (3 points) - Display the RGB bands properly\n",
        "2. **Identify color patterns** (3 points) - Create masks to identify 2 colors (e.g., green for vegetation, brown for bare soil) or any other colors of your choice\n",
        "3. **Analyze spatial patterns** (4 points) - Use your color masks to calculate statistics (e.g., percentage of green vs brown areas, spatial distribution)\n",
        "\n",
        "You should create 3 different visualizations or analyses demonstrating your understanding of geospatial data manipulation with pandas and rasterio."
      ]
    },
    {
      "metadata": {
        "id": "y_1cw8YxaV6y",
        "colab": {
          "base_uri": "https://localhost:8080/",
          "height": 162
        },
        "outputId": "a217af8c-5851-4717-f07e-f3264137832d"
      },
      "cell_type": "code",
      "source": [
        "# Your code here\n",
        "fig, ax = plt.subplots(figsize=(10, 10))"
      ],
      "outputs": [
        {
          "output_type": "error",
          "ename": "NameError",
          "evalue": "name 'plt' is not defined",
          "traceback": [
            "\u001b[0;31m---------------------------------------------------------------------------\u001b[0m",
            "\u001b[0;31mNameError\u001b[0m                                 Traceback (most recent call last)",
            "\u001b[0;32m/tmp/ipython-input-2784906679.py\u001b[0m in \u001b[0;36m<cell line: 0>\u001b[0;34m()\u001b[0m\n\u001b[1;32m      1\u001b[0m \u001b[0;31m# Your code here\u001b[0m\u001b[0;34m\u001b[0m\u001b[0;34m\u001b[0m\u001b[0m\n\u001b[0;32m----> 2\u001b[0;31m \u001b[0mfig\u001b[0m\u001b[0;34m,\u001b[0m \u001b[0max\u001b[0m \u001b[0;34m=\u001b[0m \u001b[0mplt\u001b[0m\u001b[0;34m.\u001b[0m\u001b[0msubplots\u001b[0m\u001b[0;34m(\u001b[0m\u001b[0mfigsize\u001b[0m\u001b[0;34m=\u001b[0m\u001b[0;34m(\u001b[0m\u001b[0;36m10\u001b[0m\u001b[0;34m,\u001b[0m \u001b[0;36m10\u001b[0m\u001b[0;34m)\u001b[0m\u001b[0;34m)\u001b[0m\u001b[0;34m\u001b[0m\u001b[0;34m\u001b[0m\u001b[0m\n\u001b[0m",
            "\u001b[0;31mNameError\u001b[0m: name 'plt' is not defined"
          ]
        }
      ],
      "execution_count": 57
    }
  ],
  "metadata": {
    "colab": {
      "provenance": []
    },
    "kernelspec": {
      "display_name": "Python 3 (ipykernel)",
      "language": "python",
      "name": "python3"
    },
    "language_info": {
      "codemirror_mode": {
        "name": "ipython",
        "version": 3
      },
      "file_extension": ".py",
      "mimetype": "text/x-python",
      "name": "python",
      "nbconvert_exporter": "python",
      "pygments_lexer": "ipython3",
      "version": "3.12.4"
    }
  },
  "nbformat": 4,
  "nbformat_minor": 0
}